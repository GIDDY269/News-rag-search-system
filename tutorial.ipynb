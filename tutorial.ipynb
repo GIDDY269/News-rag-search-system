{
 "cells": [
  {
   "cell_type": "code",
   "execution_count": null,
   "id": "50879345",
   "metadata": {},
   "outputs": [],
   "source": [
    "a = [1,4,5,6]\n",
    "\n",
    "b = a"
   ]
  },
  {
   "cell_type": "code",
   "execution_count": null,
   "id": "fdaf8cd5",
   "metadata": {},
   "outputs": [],
   "source": []
  }
 ],
 "metadata": {
  "language_info": {
   "name": "python"
  }
 },
 "nbformat": 4,
 "nbformat_minor": 5
}
